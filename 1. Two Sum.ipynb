{
 "cells": [
  {
   "cell_type": "markdown",
   "metadata": {},
   "source": [
    "### 1. Two Sum\n",
    "\n",
    "Given an array of integers nums and an integer target, return indices of the two numbers such that they add up to target.\n",
    "\n",
    "You may assume that each input would have exactly one solution, and you may not use the same element twice.\n",
    "\n",
    "You can return the answer in any order.\n",
    "\n",
    " \n",
    "#### Example 1:\n",
    "\n",
    "- Input: nums = [2,7,11,15], target = 9\n",
    "- Output: [0,1]\n",
    "- Output: Because nums[0] + nums[1] == 9, we return [0, 1].\n",
    "\n",
    "#### Example 2:\n",
    "\n",
    "- Input: nums = [3,2,4], target = 6\n",
    "- Output: [1,2]\n",
    "\n",
    "#### Example 3:\n",
    "\n",
    "- Input: nums = [3,3], target = 6\n",
    "- Output: [0,1]\n",
    " \n",
    "#### Constraints:\n",
    "\n",
    "- 2 <= nums.length <= 103\n",
    "- -109 <= nums[i] <= 109\n",
    "- -109 <= target <= 109\n",
    "- Only one valid answer exists."
   ]
  },
  {
   "cell_type": "code",
   "execution_count": null,
   "metadata": {},
   "outputs": [],
   "source": [
    "class Solution:\n",
    "    def twoSum(self, nums: List[int], target: int) -> List[int]:\n",
    "        d = {v:i for i,v in enumerate(nums)}\n",
    "        for i, num in enumerate(nums):\n",
    "            num2 = target - num\n",
    "            if num2 in d and d[num2] != i:\n",
    "                j = d[num2]\n",
    "                return [i, j]"
   ]
  },
  {
   "cell_type": "code",
   "execution_count": null,
   "metadata": {},
   "outputs": [],
   "source": [
    "class Solution:\n",
    "    def search(self, nums: List[int], target: int) -> int:\n",
    "        low=0\n",
    "        high=len(nums)-1\n",
    "      \n",
    "      \n",
    "        while low<=high:\n",
    "            mid=int((low+high)//2)\n",
    "        if nums[mid]==target:\n",
    "            return mid\n",
    "        if target>nums[mid]:\n",
    "            low=mid+1\n",
    "        if target<nums[mid]:\n",
    "            high=mid-1\n",
    "    return -1    "
   ]
  },
  {
   "cell_type": "code",
   "execution_count": null,
   "metadata": {},
   "outputs": [],
   "source": [
    "class Solution:\n",
    "    def twoSum(self, nums: List[int], target: int) -> List[int]:\n",
    "        has = {}\n",
    "        for i in range(len(nums)):\n",
    "            has[nums[i]] = i\n",
    "        for i in range(len(nums)):\n",
    "            if (target - nums[i]) in has and i != has[target - nums[i]]:\n",
    "                return [i,has[target-nums[i]]]"
   ]
  },
  {
   "cell_type": "code",
   "execution_count": null,
   "metadata": {},
   "outputs": [],
   "source": []
  }
 ],
 "metadata": {
  "kernelspec": {
   "display_name": "aiffel",
   "language": "python",
   "name": "aiffel"
  },
  "language_info": {
   "codemirror_mode": {
    "name": "ipython",
    "version": 3
   },
   "file_extension": ".py",
   "mimetype": "text/x-python",
   "name": "python",
   "nbconvert_exporter": "python",
   "pygments_lexer": "ipython3",
   "version": "3.7.6"
  }
 },
 "nbformat": 4,
 "nbformat_minor": 4
}
