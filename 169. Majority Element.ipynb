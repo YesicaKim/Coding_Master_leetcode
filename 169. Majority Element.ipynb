{
 "cells": [
  {
   "cell_type": "markdown",
   "metadata": {},
   "source": [
    "### 169. Majority Element\n",
    "\n",
    "Given an array nums of size n, return the majority element.\n",
    "\n",
    "The majority element is the element that appears more than ⌊n / 2⌋ times. You may assume that the majority element always exists in the array.\n",
    "\n",
    " \n",
    "\n",
    "#### Example 1:\n",
    "```\n",
    "Input: nums = [3,2,3]\n",
    "Output: 3\n",
    "```\n",
    "#### Example 2:\n",
    "```\n",
    "Input: nums = [2,2,1,1,1,2,2]\n",
    "Output: 2\n",
    "``` \n",
    "#### Constraints:\n",
    "```\n",
    "n == nums.length\n",
    "1 <= n <= 5 * 104\n",
    "-231 <= nums[i] <= 231 - 1\n",
    "``` \n",
    "\n",
    "Follow-up: Could you solve the problem in linear time and in O(1) space?"
   ]
  },
  {
   "cell_type": "code",
   "execution_count": null,
   "metadata": {},
   "outputs": [],
   "source": [
    "class Solution:\n",
    "    def majorityElement(self, nums: List[int]) -> int:\n",
    "        d = {}\n",
    "        for v in nums:\n",
    "            d[v] = d.get(v, 0) + 1\n",
    "        \n",
    "        mx = 0\n",
    "        mxk = 0\n",
    "        for k, v in d.items():\n",
    "            if mx < v:\n",
    "                mx = v\n",
    "                mxk = k\n",
    "        return mxk"
   ]
  },
  {
   "cell_type": "code",
   "execution_count": null,
   "metadata": {},
   "outputs": [],
   "source": [
    "class Solution:\n",
    "    def majorityElement(self, nums: List[int]) -> int:\n",
    "        count = 0\n",
    "        candidate = None\n",
    "        t = None\n",
    "        \n",
    "        for num in nums:\n",
    "            if count == 0:\n",
    "                candidate = num\n",
    "                \n",
    "            if num == candidate:\n",
    "                t = 1\n",
    "            else:\n",
    "                t = -1\n",
    "        \n",
    "            count += t\n",
    "        \n",
    "        return candidate"
   ]
  },
  {
   "cell_type": "code",
   "execution_count": null,
   "metadata": {},
   "outputs": [],
   "source": [
    "class Solution:\n",
    "    def majorityElement(self, nums: List[int]) -> int:\n",
    "        \n",
    "        mid = len(nums)//2\n",
    "        return sorted(nums)[mid]"
   ]
  },
  {
   "cell_type": "code",
   "execution_count": null,
   "metadata": {},
   "outputs": [],
   "source": [
    "class Solution:\n",
    "    def majorityElement(self, nums: List[int]) -> int:\n",
    "        return sorted(nums)[len(nums)//2]"
   ]
  },
  {
   "cell_type": "code",
   "execution_count": null,
   "metadata": {},
   "outputs": [],
   "source": [
    "class Solution:\n",
    "    def majorityElement(self, nums: List[int]) -> int:\n",
    "        count = 0\n",
    "        candidate = 0\n",
    "        for n in nums:\n",
    "            if count == 0:\n",
    "                candidate = n\n",
    "            count += (1 if candidate == n else -1)\n",
    "        return candidate"
   ]
  },
  {
   "cell_type": "code",
   "execution_count": null,
   "metadata": {},
   "outputs": [],
   "source": [
    "class Solution: \n",
    "    def singleNumber(self, nums: List[int]) -> int:\n",
    "        count_dict = Counter(nums)  # counter 함수를 통해 숫자의 개수를 셉니다.\n",
    "        items = count_dict.items()  # 키와 값을 가진 딕셔너리형태로 만들기 위해 .items()를 사용하여 넣었습니다.\n",
    "        \n",
    "        print(items)    # 출력해보면 dict_items([(2, 2), (1, 1)]) \n",
    "\n",
    "        for key, val in items: \n",
    "            if val == 1: answer = key # 값이 1개인 것을 찾아 리턴시킵니다. \n",
    "            break \n",
    "        return answer"
   ]
  }
 ],
 "metadata": {
  "kernelspec": {
   "display_name": "aiffel",
   "language": "python",
   "name": "aiffel"
  },
  "language_info": {
   "codemirror_mode": {
    "name": "ipython",
    "version": 3
   },
   "file_extension": ".py",
   "mimetype": "text/x-python",
   "name": "python",
   "nbconvert_exporter": "python",
   "pygments_lexer": "ipython3",
   "version": "3.7.6"
  }
 },
 "nbformat": 4,
 "nbformat_minor": 4
}
