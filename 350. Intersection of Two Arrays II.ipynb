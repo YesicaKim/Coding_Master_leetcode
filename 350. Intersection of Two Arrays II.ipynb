{
 "cells": [
  {
   "cell_type": "markdown",
   "metadata": {},
   "source": [
    "### 350. Intersection of Two Arrays II\n",
    "\n",
    "Given two arrays, write a function to compute their intersection.\n",
    "\n",
    "#### Example 1:\n",
    "```\n",
    "Input: nums1 = [1,2,2,1], nums2 = [2,2]\n",
    "Output: [2,2]\n",
    "```\n",
    "#### Example 2:\n",
    "```\n",
    "Input: nums1 = [4,9,5], nums2 = [9,4,9,8,4]\n",
    "Output: [4,9]\n",
    "```\n",
    "#### Note:\n",
    "```\n",
    "Each element in the result should appear as many times as it shows in both arrays.\n",
    "The result can be in any order.\n",
    "```\n",
    "#### Follow up:\n",
    "```\n",
    "What if the given array is already sorted? How would you optimize your algorithm?\n",
    "What if nums1's size is small compared to nums2's size? Which algorithm is better?\n",
    "What if elements of nums2 are stored on disk, and the memory is limited such that you cannot load all elements into the memory at once?\n",
    "```"
   ]
  },
  {
   "cell_type": "code",
   "execution_count": 2,
   "metadata": {},
   "outputs": [],
   "source": [
    "class Solution:\n",
    "    def intersect(self, nums1, nums2):\n",
    "        \"\"\"\n",
    "        :type nums1: List[int]\n",
    "        :type nums2: List[int]\n",
    "        :rtype: List[int]\n",
    "        \"\"\"\n",
    "        if not nums1 or not nums2:\n",
    "            return []\n",
    "        result = []\n",
    "        dict1 = dict()\n",
    "        for i in nums1:\n",
    "            if i not in dict1:\n",
    "                dict1[i] = 1\n",
    "            else:\n",
    "                dict1[i] += 1\n",
    "        for i in nums2:\n",
    "            if i in dict1:\n",
    "                if dict1[i] > 0:\n",
    "                    result.append(i)\n",
    "                    dict1[i] -= 1\n",
    "        return result"
   ]
  },
  {
   "cell_type": "code",
   "execution_count": 3,
   "metadata": {},
   "outputs": [],
   "source": [
    "class Solution:\n",
    "    def intersect(self, nums1: List[int], nums2: List[int]) -> List[int]:\n",
    "        counts1 = Counter(nums1)\n",
    "        intersection = []\n",
    "        for num in nums2:\n",
    "            if counts1[num] > 0:\n",
    "                intersection.append(num)\n",
    "                counts1[num] -= 1\n",
    "        return intersection"
   ]
  },
  {
   "cell_type": "code",
   "execution_count": null,
   "metadata": {},
   "outputs": [],
   "source": [
    "class Solution:\n",
    "    def intersect(self, nums1: List[int], nums2: List[int]) -> List[int]:\n",
    "        \n",
    "\n",
    "        #put first list in hash:\n",
    "        numdict = {}\n",
    "        for x in nums1: \n",
    "            if numdict.get(x) is None:\n",
    "                numdict.update({x: 1})\n",
    "            else:\n",
    "                numdict.update({x: numdict.get(x) + 1})\n",
    "                \n",
    "        #print(numdict)\n",
    "        intersect = []\n",
    "        #iterate through second array, adding elements to new list if exists and decrementing dict count\n",
    "        for x in nums2:\n",
    "            if numdict.get(x) is not None:\n",
    "                intersect.append(x)\n",
    "                if numdict.get(x) > 1:\n",
    "                    numdict.update({x: numdict.get(x) - 1})\n",
    "                else:\n",
    "                    numdict.pop(x)\n",
    "        \n",
    "        return intersect"
   ]
  },
  {
   "cell_type": "code",
   "execution_count": null,
   "metadata": {},
   "outputs": [],
   "source": [
    "class Solution:\n",
    "    def intersect(self, nums1: List[int], nums2: List[int]) -> List[int]:\n",
    "        from collections import Counter\n",
    "        \n",
    "        k = Counter(nums1) & Counter(nums2)\n",
    "        return [i for i, v in k.items() for j in range(v)]"
   ]
  }
 ],
 "metadata": {
  "kernelspec": {
   "display_name": "aiffel",
   "language": "python",
   "name": "aiffel"
  },
  "language_info": {
   "codemirror_mode": {
    "name": "ipython",
    "version": 3
   },
   "file_extension": ".py",
   "mimetype": "text/x-python",
   "name": "python",
   "nbconvert_exporter": "python",
   "pygments_lexer": "ipython3",
   "version": "3.7.6"
  }
 },
 "nbformat": 4,
 "nbformat_minor": 4
}
