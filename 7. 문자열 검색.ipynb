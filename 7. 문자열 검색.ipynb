{
 "cells": [
  {
   "cell_type": "code",
   "execution_count": 5,
   "metadata": {},
   "outputs": [
    {
     "name": "stdout",
     "output_type": "stream",
     "text": [
      "문자열 txt: test\n",
      "문자열 ptn: te\n",
      "ptn이 txt에 포함되어 있는 인덱스:  0\n"
     ]
    }
   ],
   "source": [
    "# 문자열에 포함되어 있는 문자열을 검색(find 계열 함수）\n",
    "\n",
    "txt = input('문자열 txt: ')  # 문자열 나열\n",
    "ptn = input('문자열 ptn: ')  # 검색할 문자\n",
    "\n",
    "c = txt.count(ptn)\n",
    "\n",
    "if c == 0:                                                  # 포함된 문자가 없음\n",
    "    print('ptn은 txt에 포함되어 있지 않습니다.')\n",
    "elif c == 1:                                                # 포함된 문자가 １개만 있는 경우\n",
    "    print('ptn이 txt에 포함되어 있는 인덱스: ', txt.find(ptn))\n",
    "else:                                                       # 포함된 문자가 2개 이상 있는 경우\n",
    "    print('ptn이 txt에 포함되어 있는 맨 앞 인덱스: ', txt.find(ptn))\n",
    "    print('ptn이 txt에 포함되어 있는 맨 끝 인덱스: ', txt.rfind(ptn))"
   ]
  },
  {
   "cell_type": "code",
   "execution_count": 6,
   "metadata": {},
   "outputs": [
    {
     "name": "stdout",
     "output_type": "stream",
     "text": [
      "문자열 txt: test\n",
      "문자열 ptn: tes\n",
      "ptn이 txt에 포함되어 있는 인덱스:  0\n"
     ]
    }
   ],
   "source": [
    "# 문자열에 포함되어 있는 문자열을 검색(index 계열 함수)\n",
    "\n",
    "txt = input('문자열 txt: ')\n",
    "ptn = input('문자열 ptn: ')\n",
    "\n",
    "c = txt.count(ptn)\n",
    "\n",
    "if c == 0:                                                  # 포함된 문자가 없음\n",
    "    print('ptn은 txt에 포함되어 있지 않습니다.')\n",
    "elif c == 1:                                                # 포함된 문자가 １개만 있는 경우\n",
    "    print('ptn이 txt에 포함되어 있는 인덱스: ', txt.index(ptn))\n",
    "else:                                                       # 포함된 문자가 2개 이상 있는 경우\n",
    "    print('ptn이 txt에 포함되어 있는 맨 앞 인덱스: ', txt.index(ptn))\n",
    "    print('ptn이 txt에 포함되어 있는 맨 끝 인덱스: ', txt.rindex(ptn))"
   ]
  },
  {
   "cell_type": "markdown",
   "metadata": {},
   "source": [
    "# 07-1 브루트 포스법"
   ]
  },
  {
   "cell_type": "code",
   "execution_count": 2,
   "metadata": {},
   "outputs": [
    {
     "name": "stdout",
     "output_type": "stream",
     "text": [
      "텍스트를 입력하세요.: sweatswaetswear\n",
      "패턴을 입력하세요.: swe\n",
      "1번째 문자에서 일치합니다.\n"
     ]
    }
   ],
   "source": [
    "# [Do it! 실습 7-1] 브루트 포스법으로 문자열 검색하기\n",
    "\n",
    "def bf_match(txt: str, pat: str) -> int:\n",
    "    \"\"\"브루트 포스법으로 문자열 검색\"\"\"\n",
    "    pt = 0  # txt(텍스트)를 따라가는 커서\n",
    "    pp = 0  # pat(패턴)를 따라가는 커서\n",
    "\n",
    "    while pt != len(txt) and pp != len(pat):\n",
    "        if txt[pt] == pat[pp]:\n",
    "            pt += 1\n",
    "            pp += 1\n",
    "        else:\n",
    "            pt = pt - pp + 1\n",
    "            pp = 0\n",
    "\n",
    "    return pt - pp if pp == len(pat) else -1\n",
    "\n",
    "if __name__ == '__main__':\n",
    "    s1 = input('텍스트를 입력하세요.: ')  # 텍스트용 문자열\n",
    "    s2 = input('패턴을 입력하세요.: ')    # 패턴용 문자열\n",
    "\n",
    "    idx = bf_match(s1, s2)  # 문자열 s1~s2를 브루트 포스법으로 검색\n",
    "\n",
    "    if idx == -1:\n",
    "        print('텍스트 안에 패턴이 존재하지 않습니다.')\n",
    "    else:\n",
    "        print(f'{(idx + 1)}번째 문자에서 일치합니다.')"
   ]
  },
  {
   "cell_type": "markdown",
   "metadata": {},
   "source": [
    "## 07-2 KMP법"
   ]
  },
  {
   "cell_type": "code",
   "execution_count": 3,
   "metadata": {},
   "outputs": [
    {
     "name": "stdout",
     "output_type": "stream",
     "text": [
      "텍스트를 입력하세요.: swaetswaerswaaa\n",
      "패턴을 입력하세요.: swa\n",
      "1번째 문자에서 일치합니다.\n"
     ]
    }
   ],
   "source": [
    "# [Do it! 실습 7-2] KMP법으로 문자열 검색하기\n",
    "\n",
    "def kmp_match(txt: str, pat: str) -> int:\n",
    "    \"\"\"KMP법에 의한 문자열 검색\"\"\"\n",
    "    pt = 1  # txt를 따라가는 커서\n",
    "    pp = 0  # pat를 따라가는 커서\n",
    "    skip = [0] * (len(pat) + 1)  # 건너뛰기 표\n",
    "\n",
    "    # 건너뛰기 표 만들기\n",
    "    skip[pt] = 0\n",
    "    while pt != len(pat):\n",
    "        if pat[pt] == pat[pp]:\n",
    "            pt += 1\n",
    "            pp += 1\n",
    "            skip[pt] = pp\n",
    "        elif pp == 0:\n",
    "            pt += 1\n",
    "            skip[pt] = pp\n",
    "        else:\n",
    "            pp = skip[pp]\n",
    "\n",
    "    # 검색하기\n",
    "    pt = pp = 0\n",
    "    while pt != len(txt) and pp != len(pat):\n",
    "        if txt[pt] == pat[pp]:\n",
    "            pt += 1\n",
    "            pp += 1\n",
    "        elif pp == 0:\n",
    "            pt += 1\n",
    "        else:\n",
    "            pp = skip[pp]\n",
    "\n",
    "    return pt - pp if pp == len(pat) else -1\n",
    "\n",
    "if __name__ == '__main__':\n",
    "    s1 = input('텍스트를 입력하세요.: ')  # 텍스트용 문자열\n",
    "    s2 = input('패턴을 입력하세요.: ')    # 패턴용 문자열\n",
    "\n",
    "    idx = kmp_match(s1, s2)  # 문자열 s1~s2를 KMP법으로 검색\n",
    "\n",
    "    if idx == -1:\n",
    "        print('텍스트 안에 패턴이 존재하지 않습니다.')\n",
    "    else:\n",
    "        print(f'{(idx + 1)}번째 문자에서 일치합니다.')"
   ]
  },
  {
   "cell_type": "markdown",
   "metadata": {},
   "source": [
    "# 07-3 보이어-무어법"
   ]
  },
  {
   "cell_type": "code",
   "execution_count": 4,
   "metadata": {},
   "outputs": [
    {
     "name": "stdout",
     "output_type": "stream",
     "text": [
      "텍스트를 입력하세요.: swart\n",
      "패턴을 입력하세요.: sw\n",
      "1번째 문자에서 일치합니다.\n"
     ]
    }
   ],
   "source": [
    "# [Do it! 실습 7-3] 보이어 무어법으로 문자열 검색하기(0~255 문자)\n",
    "\n",
    "def bm_match(txt: str, pat: str) -> int:\n",
    "    \"\"\"보이어 무어법에 의한 문자열 검색\"\"\"\n",
    "    skip = [None] * 256  # 건너뛰기 표\n",
    "\n",
    "    # 건너뛰기 표 만들기\n",
    "    for pt in range(256):\n",
    "        skip[pt] = len(pat)\n",
    "    for pt in range(len(pat)):\n",
    "        skip[ord(pat[pt])] = len(pat) - pt - 1\n",
    "\n",
    "    # 검색하기\n",
    "    while pt < len(txt):\n",
    "        pp = len(pat) - 1\n",
    "        while txt[pt] == pat[pp]:\n",
    "            if pp == 0:\n",
    "                return pt\n",
    "            pt -= 1\n",
    "            pp -= 1\n",
    "        pt += skip[ord(txt[pt])] if skip[ord(txt[pt])] > len(pat) - pp \\\n",
    "              else len(pat) - pp\n",
    "\n",
    "    return -1\n",
    "\n",
    "if __name__ == '__main__':\n",
    "    s1 = input('텍스트를 입력하세요.: ')  # 텍스트 문자열\n",
    "    s2 = input('패턴을 입력하세요.: ')    # 패턴 문자열\n",
    "\n",
    "    idx = bm_match(s1, s2)  # 문자열 s1~s2를 KMP법으로 검색\n",
    "\n",
    "    if idx == -1:\n",
    "        print('텍스트 안에 패턴이 존재하지 않습니다.')\n",
    "    else:\n",
    "        print(f'{(idx + 1)}번째 문자에서 일치합니다.')\n"
   ]
  },
  {
   "cell_type": "code",
   "execution_count": null,
   "metadata": {},
   "outputs": [],
   "source": []
  }
 ],
 "metadata": {
  "kernelspec": {
   "display_name": "aiffel",
   "language": "python",
   "name": "aiffel"
  },
  "language_info": {
   "codemirror_mode": {
    "name": "ipython",
    "version": 3
   },
   "file_extension": ".py",
   "mimetype": "text/x-python",
   "name": "python",
   "nbconvert_exporter": "python",
   "pygments_lexer": "ipython3",
   "version": "3.7.6"
  }
 },
 "nbformat": 4,
 "nbformat_minor": 4
}
