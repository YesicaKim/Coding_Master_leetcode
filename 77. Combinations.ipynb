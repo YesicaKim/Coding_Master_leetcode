{
 "cells": [
  {
   "cell_type": "markdown",
   "metadata": {},
   "source": [
    "### 77. Combinations\n",
    "\n",
    "Given two integers n and k, return all possible combinations of k numbers out of 1 ... n.\n",
    "\n",
    "You may return the answer in any order.\n",
    "\n",
    " \n",
    "#### Example 1:\n",
    "```\n",
    "Input: n = 4, k = 2\n",
    "Output:\n",
    "[\n",
    "  [2,4],\n",
    "  [3,4],\n",
    "  [2,3],\n",
    "  [1,2],\n",
    "  [1,3],\n",
    "  [1,4],\n",
    "]\n",
    "```\n",
    "#### Example 2:\n",
    "```\n",
    "Input: n = 1, k = 1\n",
    "Output: [[1]]\n",
    "```\n",
    "\n",
    "#### Constraints:\n",
    "```\n",
    "1 <= n <= 20\n",
    "1 <= k <= n\n",
    "```"
   ]
  },
  {
   "cell_type": "code",
   "execution_count": 2,
   "metadata": {},
   "outputs": [],
   "source": [
    "class Solution:\n",
    "    def combine(self, n, k):\n",
    "        def comb(n, k):\n",
    "            if (n, k) in memo:\n",
    "                return memo[(n, k)]\n",
    "            if n < k:\n",
    "                return []\n",
    "            if k == 1:\n",
    "                memo[(n, k)] = [[x] for x in range(1, n+1)]\n",
    "                return memo[(n, k)]\n",
    "            part1 = comb(n-1, k-1)\n",
    "            part2 = comb(n-1, k)\n",
    "            res = []\n",
    "            for part in part1:\n",
    "                res.append(part + [n])\n",
    "            res.extend(part2)\n",
    "            memo[(n, k)] = res\n",
    "            return memo[(n, k)]\n",
    "\n",
    "        memo = dict()\n",
    "        return comb(n, k)"
   ]
  },
  {
   "cell_type": "code",
   "execution_count": 3,
   "metadata": {},
   "outputs": [],
   "source": [
    "class Solution:\n",
    "    def combine(self, n: int, k: int) -> List[List[int]]:\n",
    "        return list(itertools.combinations([i for i in range(1,n+1)],k))"
   ]
  },
  {
   "cell_type": "code",
   "execution_count": null,
   "metadata": {},
   "outputs": [],
   "source": [
    "class Solution:\n",
    "    def combine(self, n: int, k: int) -> List[List[int]]:\n",
    "        if(k==1):\n",
    "            return [[i] for i in range(1,n+1)]\n",
    "        if(n==k):\n",
    "            return [[i for i in range(1,n+1)]]\n",
    "        x=self.combine(n-1,k-1)\n",
    "        y=self.combine(n-1,k)\n",
    "        for a in x:\n",
    "            a.append(n)\n",
    "        return x+y"
   ]
  },
  {
   "cell_type": "code",
   "execution_count": null,
   "metadata": {},
   "outputs": [],
   "source": [
    "from itertools import combinations\n",
    "\n",
    "class Solution:\n",
    "    def combine(self, n: int, k: int) -> List[List[int]]:\n",
    "        #6:44\n",
    "        nums = [i for i in range(1, n+1)]\n",
    "        return list(combinations(nums, k))\n",
    "        #6:46"
   ]
  }
 ],
 "metadata": {
  "kernelspec": {
   "display_name": "aiffel",
   "language": "python",
   "name": "aiffel"
  },
  "language_info": {
   "codemirror_mode": {
    "name": "ipython",
    "version": 3
   },
   "file_extension": ".py",
   "mimetype": "text/x-python",
   "name": "python",
   "nbconvert_exporter": "python",
   "pygments_lexer": "ipython3",
   "version": "3.7.6"
  }
 },
 "nbformat": 4,
 "nbformat_minor": 4
}
